{
 "cells": [
  {
   "cell_type": "markdown",
   "metadata": {
    "id": "view-in-github"
   },
   "source": [
    "[![Open In Colab](https://colab.research.google.com/assets/colab-badge.svg)](https://colab.research.google.com/github/camenduru/ExAvatar-jupyter/blob/main/ExAvatar_jupyter.ipynb)"
   ]
  },
  {
   "cell_type": "code",
   "execution_count": null,
   "metadata": {
    "id": "VjYy0F2gZIPR"
   },
   "outputs": [],
   "source": [
    "%cd /content\n",
    "!apt install aria2 -qqy\n",
    "!pip install torchsde einops diffusers transformers accelerate peft timm kornia\n",
    "!git clone https://github.com/comfyanonymous/ComfyUI /content/ComfyUI\n",
    "!git clone https://github.com/ltdrdata/ComfyUI-Manager /content/ComfyUI/custom_nodes/ComfyUI-Manager\n",
    "!git clone https://github.com/Kosinkadink/ComfyUI-VideoHelperSuite /content/ComfyUI/custom_nodes/ComfyUI-VideoHelperSuite\n",
    "!git clone https://github.com/camenduru/add_text_2_img /content/ComfyUI/custom_nodes/add_text_2_img\n",
    "!git clone https://github.com/lldacing/ComfyUI_BiRefNet_ll /content/ComfyUI/custom_nodes/ComfyUI_BiRefNet_ll\n",
    "!git clone https://github.com/kijai/ComfyUI-KJNodes /content/ComfyUI/custom_nodes/ComfyUI-KJNodes\n",
    "!aria2c --console-log-level=error -c -x 16 -s 16 -k 1M https://huggingface.co/ZhengPeng7/BiRefNet/resolve/main/model.safetensors -d /content/ComfyUI/models/BiRefNet -o General.safetensors\n",
    "\n",
    "%cd /content/ComfyUI\n",
    "\n",
    "import os, json, requests, random, time\n",
    "from urllib.parse import urlsplit\n",
    "\n",
    "import torch\n",
    "from PIL import Image\n",
    "import numpy as np\n",
    "\n",
    "from nodes import load_custom_node\n",
    "from nodes import NODE_CLASS_MAPPINGS\n",
    "from comfy_extras import nodes_mask\n",
    "\n",
    "load_custom_node(\"/content/ComfyUI/custom_nodes/ComfyUI_BiRefNet_ll\")\n",
    "load_custom_node(\"/content/ComfyUI/custom_nodes/add_text_2_img\")\n",
    "\n",
    "LoadImage = NODE_CLASS_MAPPINGS[\"LoadImage\"]()\n",
    "AutoDownloadBiRefNetModel = NODE_CLASS_MAPPINGS[\"AutoDownloadBiRefNetModel\"]()\n",
    "RembgByBiRefNet = NODE_CLASS_MAPPINGS[\"RembgByBiRefNet\"]()\n",
    "AddText = NODE_CLASS_MAPPINGS[\"AddText\"]()\n",
    "ImageCompositeMasked = nodes_mask.NODE_CLASS_MAPPINGS[\"ImageCompositeMasked\"]()\n",
    "\n",
    "with torch.inference_mode():\n",
    "    model = AutoDownloadBiRefNetModel.load_model(\"General\", \"AUTO\")[0]\n",
    "\n",
    "def download_file(url, save_dir, file_name):\n",
    "    os.makedirs(save_dir, exist_ok=True)\n",
    "    file_suffix = os.path.splitext(urlsplit(url).path)[1]\n",
    "    file_name_with_suffix = file_name + file_suffix\n",
    "    file_path = os.path.join(save_dir, file_name_with_suffix)\n",
    "    response = requests.get(url)\n",
    "    response.raise_for_status()\n",
    "    with open(file_path, 'wb') as file:\n",
    "        file.write(response.content)\n",
    "    return file_path\n",
    "\n",
    "@torch.inference_mode()\n",
    "def generate(input):\n",
    "    values = input[\"input\"]\n",
    "\n",
    "    input_image=values['input_image_check']\n",
    "    input_image=download_file(url=input_image, save_dir='/content/ComfyUI/input', file_name='input_image')\n",
    "    text = values['text']\n",
    "    x = values['x']\n",
    "    y = values['y']\n",
    "    font_size = values['font_size']\n",
    "    font_family = values['font_family']\n",
    "    font_color = values['font_color']\n",
    "    font_shadow_x = values['font_shadow_x']\n",
    "    font_shadow_y = values['font_shadow_y']\n",
    "    shadow_color = values['shadow_color']\n",
    "    custom_font_path = values['custom_font_path']\n",
    "    custom_font_path=download_file(url=custom_font_path, save_dir='/content/ComfyUI/input', file_name='input_font')\n",
    "\n",
    "    source, _ = LoadImage.load_image(input_image)\n",
    "    destination = AddText.add_text(image=source, text=text, x=x, y=y, font_size=font_size, font_family=font_family, font_color=font_color, font_shadow_x=font_shadow_x, font_shadow_y=font_shadow_y, shadow_color=shadow_color, custom_font_path=custom_font_path)[0]\n",
    "    _, out_masks = RembgByBiRefNet.rem_bg(model=model, images=source)\n",
    "    out_image = ImageCompositeMasked.composite(destination=destination, source=source, x=0, y=0, resize_source=False, mask=out_masks)[0]\n",
    "    Image.fromarray(np.array(out_image*255, dtype=np.uint8)[0]).save(f\"/content/ComfyUI/output/text-behind-image-tost.png\")\n",
    "\n",
    "    result = f\"/content/ComfyUI/output/text-behind-image-tost.png\"\n",
    "\n",
    "    return Image.fromarray(np.array(out_image*255, dtype=np.uint8)[0])"
   ]
  },
  {
   "cell_type": "code",
   "execution_count": null,
   "metadata": {},
   "outputs": [],
   "source": [
    "input = { \n",
    "    \"input\": {\n",
    "        \"input_image_check\": \"https://files.catbox.moe/flj6kn.png\",\n",
    "        \"text\": \"Test\",\n",
    "        \"x\": 230,\n",
    "        \"y\": 91,\n",
    "        \"font_size\": 223,\n",
    "        \"font_family\": \"Custom\",\n",
    "        \"font_color\": \"#eb34bd\",\n",
    "        \"font_shadow_x\": 0,\n",
    "        \"font_shadow_y\": 0,\n",
    "        \"shadow_color\": \"#000000\",\n",
    "        \"custom_font_path\": \"https://huggingface.co/camenduru/Fonts/resolve/main/BIG_JOHN.otf\"\n",
    "    }\n",
    "}\n",
    "image = generate(input)\n",
    "image"
   ]
  }
 ],
 "metadata": {
  "accelerator": "GPU",
  "colab": {
   "gpuType": "T4",
   "provenance": []
  },
  "kernelspec": {
   "display_name": "Python 3",
   "name": "python3"
  },
  "language_info": {
   "name": "python"
  }
 },
 "nbformat": 4,
 "nbformat_minor": 0
}
